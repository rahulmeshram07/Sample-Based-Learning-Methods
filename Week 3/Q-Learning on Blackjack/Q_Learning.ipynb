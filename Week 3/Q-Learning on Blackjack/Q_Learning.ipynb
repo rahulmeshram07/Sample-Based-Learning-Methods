{
 "cells": [
  {
   "cell_type": "markdown",
   "id": "8c76db58",
   "metadata": {},
   "source": [
    "# Introduction\n",
    "- In this kernel, we will be implementing the **Blackjack** environment. A complete and extensive description of the same can be found in the book on **Reinforcement Learning** by **Richard S. Sutton and Andrew G. Barto**. Check out **Example 5.1** (Page - 93).\n",
    "- We will be deploying Q-Learning to try and find the optimal agent's policy for a given dealer's way of playing, for instance, **HIT if sum < 17, else STICK**. \n",
    "\n",
    "# Importing Packages & Boilerplate Stuff\n",
    "\n",
    "1. jdc: Jupyter magic that allows defining classes over multiple jupyter notebook cells.\n",
    "2. numpy: the fundamental package for scientific computing with Python.\n",
    "3. matplotlib: the library for plotting graphs in Python.\n",
    "4. RL-Glue: the library for reinforcement learning experiments.\n",
    "5. BaseEnvironment, BaseAgent: the base classes from which we will inherit when creating the environment and agent classes in order for them to support the RL-Glue framework.\n",
    "6. itertools.product: the function that can be used easily to compute permutations.\n",
    "7. tqdm.tqdm: Provides progress bars for visualizing the status of loops."
   ]
  },
  {
   "cell_type": "code",
   "execution_count": 1,
   "id": "a4faf6ec",
   "metadata": {},
   "outputs": [],
   "source": [
    "import jdc\n",
    "import numpy as np\n",
    "import matplotlib.pyplot as plt\n",
    "from rl_glue import RLGlue\n",
    "from Agent import BaseAgent \n",
    "from Environment import BaseEnvironment\n",
    "from itertools import product\n",
    "from tqdm import tqdm"
   ]
  },
  {
   "cell_type": "code",
   "execution_count": 2,
   "id": "2214c18b",
   "metadata": {},
   "outputs": [],
   "source": [
    "### DEBUG CODE\n",
    "# Setting the seed for reproducible results\n",
    "# np.random.seed(0)"
   ]
  },
  {
   "cell_type": "markdown",
   "id": "9309f081",
   "metadata": {},
   "source": [
    "# 1. Environment\n",
    "- When the agent's sum <= 11, the agent will always hit, so, there's no need to simulate any policy for that part of the interaction. This part of the interaction has thus been simulated in `env_start` in the beginning of each episode.\n",
    "-  During this simulation, if the agent's cards sum to 21, then we define this as a NATURAL (*slightly different from the book*). As per the the book, a NATURAL is defined as the case when the 2 cards dealt to the player sum to 21. "
   ]
  },
  {
   "cell_type": "code",
   "execution_count": 3,
   "id": "74ceb424",
   "metadata": {},
   "outputs": [],
   "source": [
    "class BlackjackEnvironment(BaseEnvironment):\n",
    "    def env_init(self, env_info={}):\n",
    "        raise NotImplementedError\n",
    "\n",
    "    def env_start(self):\n",
    "        raise NotImplementedError\n",
    "\n",
    "    def env_step(self, action):\n",
    "        raise NotImplementedError\n",
    "\n",
    "    def env_cleanup(self):\n",
    "        raise NotImplementedError\n",
    "        \n",
    "    # Helper method\n",
    "    def episode_reward(self):\n",
    "        raise NotImplementedError\n",
    "        \n",
    "    # Helper method\n",
    "    def get_dealer_sum(self):\n",
    "        raise NotImplementedError\n",
    "        \n",
    "    # Helper method\n",
    "    def set_reward_state_term(self, reward, is_terminal):\n",
    "        raise NotImplementedError"
   ]
  },
  {
   "cell_type": "markdown",
   "id": "bde17291",
   "metadata": {},
   "source": [
    "## 1.1. env_init()\n",
    "- All the characteristics of the environment that are constant throughout the episodes are defined in this method.\n",
    "- For simplicity purposes, I have defined all the variables that are varying across the episodes in this function as well, and set them to `None`."
   ]
  },
  {
   "cell_type": "code",
   "execution_count": 4,
   "id": "9022b613",
   "metadata": {},
   "outputs": [],
   "source": [
    "%%add_to BlackjackEnvironment\n",
    "\n",
    "def env_init(self, env_info={}):\n",
    "    \"\"\"\n",
    "    Setup for the environment called when the experiment first starts.\n",
    "    Args:\n",
    "        env_info: Contains the information for the environment\n",
    "    \"\"\"\n",
    "    \n",
    "    # Defines the current state; a tuple of \n",
    "    # (dealer's visible card, agent sum, boolean indicating presence of a usable ace)\n",
    "    self.cur_state = None\n",
    "    \n",
    "    # Defines the current reward, state, and whether this is a terminal state or not\n",
    "    self.reward_state_term = None\n",
    "    \n",
    "    # Dictionaries mapping each state to an index & vice-versa\n",
    "    self.state_to_index = {}\n",
    "    self.index_to_state = {}\n",
    "    \n",
    "    # Iterating over all the possible 200 states\n",
    "    i = 0\n",
    "    for ag_sum in range(12, 22):\n",
    "        for dea_vc in range(2, 12): # Dealer's Visible Card\n",
    "            for us_ace in [False, True]: # Usable Ace\n",
    "                self.index_to_state[i] = (dea_vc, ag_sum, us_ace)\n",
    "                self.state_to_index[(dea_vc, ag_sum, us_ace)] = i\n",
    "                i += 1\n",
    "    \n",
    "    # Defining the card probabilities\n",
    "    self.card_probs = {}\n",
    "    for i in range(2, 10):\n",
    "        self.card_probs[i] = (1 / 13)\n",
    "    self.card_probs[10] = (4 / 13)\n",
    "    self.card_probs[11] = (1 / 13)\n",
    "    \n",
    "    # How to access the dictionary\n",
    "    # list(self.card_probs.keys()) gives us the possible cards\n",
    "    # list(self.card_probs.values()) gives us the probablities\n",
    "    \n",
    "    self.dealer_sticks = env_info.get(\"dealer_sticks\", 17)\n",
    "    self.dealer_card_up = None\n",
    "    self.dealer_card_down = None\n",
    "    \n",
    "    # Initializing the default values for the agent\n",
    "    self.agent_sum = None\n",
    "    self.agent_usable_ace = None\n",
    "    self.is_natural = None"
   ]
  },
  {
   "cell_type": "markdown",
   "id": "d9295a18",
   "metadata": {},
   "source": [
    "## 1.2. env_start()\n",
    "- All the characteristics of the environment that are varying across the episodes are defined in this method."
   ]
  },
  {
   "cell_type": "code",
   "execution_count": 5,
   "id": "6216bf53",
   "metadata": {},
   "outputs": [],
   "source": [
    "%%add_to BlackjackEnvironment\n",
    "\n",
    "def env_start(self):\n",
    "    \"\"\"\n",
    "    The first method called when the episode starts, called before the\n",
    "    agent starts.\n",
    "    Returns:\n",
    "        The first state from the environment.\n",
    "    \"\"\"\n",
    "    \n",
    "    ### DEBUG CODE\n",
    "    # seed = np.random.choice(range(10000))\n",
    "    # np.random.seed(seed)\n",
    "    \n",
    "    # Initializing the starting values for the environment\n",
    "    self.dealer_card_up = np.random.choice(range(2, 12), replace = True, \n",
    "        p = list(self.card_probs.values()))\n",
    "    self.dealer_card_down = np.random.choice(range(2, 12), replace = True, \n",
    "        p = list(self.card_probs.values()))\n",
    "    \n",
    "    # Initializing the starting values for the agent\n",
    "    self.agent_sum = 0\n",
    "    self.agent_usable_ace = False\n",
    "    self.is_natural = False\n",
    "    \n",
    "    while self.agent_sum < 12:\n",
    "        card_drawn = np.random.choice(range(2, 12), replace = True, \n",
    "            p = list(self.card_probs.values()))\n",
    "        if card_drawn == 11: self.agent_usable_ace = True\n",
    "        self.agent_sum += card_drawn\n",
    "        \n",
    "    if self.agent_sum == 22:\n",
    "        self.agent_sum -= 10\n",
    "        self.set_reward_state_term(0, False)\n",
    "    \n",
    "    elif self.agent_sum == 21:\n",
    "        self.is_natural = True\n",
    "        reward = self.episode_reward()\n",
    "        self.set_reward_state_term(reward, True)\n",
    "    \n",
    "    else:\n",
    "        self.set_reward_state_term(0, False)\n",
    "    \n",
    "    ### DEBUG CODE\n",
    "    # print(\"Starting Reward:\", self.reward_state_term[0])\n",
    "    # print(\"Starting State:\", self.index_to_state[self.reward_state_term[1]])\n",
    "    # print(\"Starting Bool:\", self.reward_state_term[2])\n",
    "    \n",
    "    return self.reward_state_term[1]"
   ]
  },
  {
   "cell_type": "markdown",
   "id": "f673ea42",
   "metadata": {},
   "source": [
    "## 1.3. env_step()"
   ]
  },
  {
   "cell_type": "code",
   "execution_count": 6,
   "id": "ba4eed65",
   "metadata": {},
   "outputs": [],
   "source": [
    "%%add_to BlackjackEnvironment\n",
    "\n",
    "def env_step(self, action):\n",
    "    \"\"\"\n",
    "    A step taken by the environment.\n",
    "    Args:\n",
    "        action: The action taken by the agent\n",
    "    Returns:\n",
    "        (reward, state, boolean): a tuple of the reward, state,\n",
    "            and boolean indicating if it's terminal.\n",
    "    \"\"\"\n",
    "    \n",
    "    # Case in which a NATURAL happens, i.e., the agent comes up with 21\n",
    "    if self.is_natural:\n",
    "        reward = self.episode_reward()\n",
    "        self.set_reward_state_term(reward, True)\n",
    "        return self.reward_state_term\n",
    "    \n",
    "    # The agent sticks; always lead to terminal state\n",
    "    # None of the 3 variables in the state changes\n",
    "    if action == 0:\n",
    "        reward = self.episode_reward()\n",
    "        self.set_reward_state_term(reward, True)\n",
    "        \n",
    "    # The agent hits; may or may not lead to terminal state\n",
    "    elif action == 1:\n",
    "        # Draw a card\n",
    "        card_drawn = np.random.choice(range(2, 12), replace = True, \n",
    "            p = list(self.card_probs.values()))\n",
    "        \n",
    "        # Assuming that if an ace is drawn, it is usable\n",
    "        # Will change it further down the code\n",
    "        if card_drawn == 11: self.agent_usable_ace = True\n",
    "        self.agent_sum += card_drawn\n",
    "        \n",
    "        # The agent doesn't have a usable ace\n",
    "        if not self.agent_usable_ace:\n",
    "            if self.agent_sum > 21:\n",
    "                self.agent_sum -= card_drawn\n",
    "                self.set_reward_state_term(-1, True)\n",
    "            elif self.agent_sum == 21:\n",
    "                reward = self.episode_reward()\n",
    "                self.set_reward_state_term(reward, True)\n",
    "            else:\n",
    "                self.set_reward_state_term(0, False)\n",
    "            \n",
    "        # The agent does have a usable ace\n",
    "        else:\n",
    "            if self.agent_sum > 21:\n",
    "                self.agent_usable_ace = False\n",
    "                self.agent_sum -= 10\n",
    "                \n",
    "                if self.agent_sum == 21:\n",
    "                    reward = self.episode_reward()\n",
    "                    self.set_reward_state_term(reward, True)\n",
    "                else:\n",
    "                    self.set_reward_state_term(0, False)\n",
    "            \n",
    "            elif self.agent_sum == 21:\n",
    "                reward = self.episode_reward()\n",
    "                self.set_reward_state_term(reward, True)\n",
    "            else:\n",
    "                self.set_reward_state_term(0, False)\n",
    "    \n",
    "    return self.reward_state_term"
   ]
  },
  {
   "cell_type": "markdown",
   "id": "28e92108",
   "metadata": {},
   "source": [
    "## 1.4. env_cleanup()"
   ]
  },
  {
   "cell_type": "code",
   "execution_count": 7,
   "id": "66f242db",
   "metadata": {},
   "outputs": [],
   "source": [
    "%%add_to BlackjackEnvironment\n",
    "\n",
    "def env_cleanup(self):\n",
    "    \"\"\"Cleanup done after the environment ends\"\"\"\n",
    "    \n",
    "    # Default values for the environment\n",
    "    self.cur_state = None\n",
    "    self.reward_state_term = None\n",
    "    self.dealer_card_up = None\n",
    "    self.dealer_card_down = None\n",
    "    \n",
    "    # Default values for the agent\n",
    "    self.agent_sum = None\n",
    "    self.agent_usable_ace = None\n",
    "    self.is_natural = None"
   ]
  },
  {
   "cell_type": "markdown",
   "id": "4beaeeb6",
   "metadata": {},
   "source": [
    "## 1.5. episode_reward(), get_dealer_sum() and set_reward_state_term()"
   ]
  },
  {
   "cell_type": "code",
   "execution_count": 8,
   "id": "9a5bb8ca",
   "metadata": {},
   "outputs": [],
   "source": [
    "%%add_to BlackjackEnvironment\n",
    "\n",
    "def episode_reward(self):\n",
    "    \"\"\"\n",
    "    Returns:\n",
    "        reward: the reward for an episode, after the agent's turn is over\n",
    "    \"\"\"\n",
    "    \n",
    "    dealer_sum = self.get_dealer_sum()\n",
    "            \n",
    "    # Dealer goes bust; agent wins the episode\n",
    "    if dealer_sum > 21: reward = 1\n",
    "    # The episode results in a draw\n",
    "    elif dealer_sum == self.agent_sum: reward = 0\n",
    "    # The dealer wins due to a greater sum\n",
    "    elif dealer_sum > self.agent_sum: reward = -1\n",
    "    # The agent wins due to a greater sum\n",
    "    elif self.agent_sum > dealer_sum: reward = 1\n",
    "    \n",
    "    return reward\n",
    "\n",
    "def get_dealer_sum(self):\n",
    "    \"\"\"\n",
    "    Returns:\n",
    "        dealer_sum: the sum of the dealer's cards\n",
    "    \"\"\"\n",
    "    \n",
    "    dealer_sum = 0\n",
    "    dealer_usable_ace = False\n",
    "    \n",
    "    # Account for the 2 cards that the dealer has been already dealt with\n",
    "    for card in [self.dealer_card_up, self.dealer_card_down]:\n",
    "        if card == 11: dealer_usable_ace = True\n",
    "        dealer_sum += card\n",
    "    \n",
    "    # Dealer still has a usable ace, since he has 2 aces\n",
    "    if dealer_sum == 22: dealer_sum -= 10\n",
    "    \n",
    "    # Keep on hitting until the dealer's cards sum to atleast self.dealer_sticks\n",
    "    while dealer_sum < self.dealer_sticks:\n",
    "        card_drawn = np.random.choice(range(2, 12), replace = True, \n",
    "            p = list(self.card_probs.values()))\n",
    "        dealer_sum += card_drawn\n",
    "        \n",
    "        # Dealer has an ace already\n",
    "        if dealer_usable_ace:\n",
    "            # The new card dealt is also an ace\n",
    "            if dealer_sum > 21 and card_drawn == 11:\n",
    "                dealer_sum -= 10\n",
    "            # The new card dealt is not an ace\n",
    "            elif dealer_sum > 21 and card_drawn != 11:\n",
    "                dealer_sum -= 10\n",
    "                dealer_usable_ace = False\n",
    "        \n",
    "        # Dealer doesn't have an ace yet\n",
    "        else:\n",
    "            # The new card dealt is an ace\n",
    "            if dealer_sum > 21 and card_drawn == 11:\n",
    "                dealer_sum -= 10\n",
    "            # The sum is still less & the new card dealt is an ace\n",
    "            elif dealer_sum <= 21 and card_drawn == 11:\n",
    "                dealer_usable_ace = True\n",
    "                \n",
    "    return dealer_sum\n",
    "\n",
    "def set_reward_state_term(self, reward, is_terminal):\n",
    "    \"\"\"Sets the cur_state and reward_state_term of the environment\"\"\"\n",
    "    \n",
    "    state = (self.dealer_card_up, self.agent_sum, self.agent_usable_ace)\n",
    "    self.cur_state = self.state_to_index[state]\n",
    "    self.reward_state_term = (reward, self.cur_state, is_terminal)"
   ]
  },
  {
   "cell_type": "markdown",
   "id": "52e0f55d",
   "metadata": {},
   "source": [
    "# 2. Agent"
   ]
  },
  {
   "cell_type": "code",
   "execution_count": 9,
   "id": "27996ed8",
   "metadata": {},
   "outputs": [],
   "source": [
    "class QLearningAgent(BaseAgent):\n",
    "    def agent_init(self, agent_info={}):\n",
    "        raise NotImplementedError\n",
    "        \n",
    "    def agent_start(self, state):\n",
    "        raise NotImplementedError\n",
    "\n",
    "    def agent_step(self, reward, state):\n",
    "        raise NotImplementedError\n",
    "\n",
    "    def agent_end(self, reward):\n",
    "        raise NotImplementedError\n",
    "        \n",
    "    def agent_message(self, message):\n",
    "        raise NotImplementedError\n",
    "\n",
    "    # Helper method\n",
    "    def argmax(self, q_values):        \n",
    "        raise NotImplementedError"
   ]
  },
  {
   "cell_type": "markdown",
   "id": "d12b2e73",
   "metadata": {},
   "source": [
    "## 2.1. agent_init()"
   ]
  },
  {
   "cell_type": "code",
   "execution_count": 10,
   "id": "13319dcb",
   "metadata": {},
   "outputs": [],
   "source": [
    "%%add_to QLearningAgent\n",
    "\n",
    "def agent_init(self, agent_info = {}):\n",
    "    \"\"\"\n",
    "    Setup for the agent called when the experiment first starts.\n",
    "    Args:\n",
    "        agent_info: Contains the information for the agent\n",
    "    \"\"\"\n",
    "    \n",
    "    # Defining the #actions and #states \n",
    "    self.num_actions = 2\n",
    "    self.num_states = 200\n",
    "    \n",
    "    # Discount factor (gamma) to use in the updates.\n",
    "    self.discount = agent_info.get(\"discount\", 0.1)\n",
    "    \n",
    "    # The learning rate or step size parameter (alpha) to use in updates.\n",
    "    self.step_size = agent_info.get(\"step_size\", 0.1)\n",
    "    \n",
    "    # To control the exploration-exploitation trade-off\n",
    "    self.epsilon = agent_info.get(\"epsilon\", 0.1)\n",
    "    \n",
    "    # Defining the initial equi-probable random policy\n",
    "    # 0 denotes that the agent sticks, and 1 denotes that the agent hits\n",
    "    self.pi = np.ones((self.num_states, self.num_actions)) * 0.5\n",
    "    \n",
    "    # Defining the initial action values\n",
    "    self.q = np.zeros((self.num_states, self.num_actions))\n",
    "    \n",
    "    # Defining a random generator\n",
    "    self.rand_generator = np.random.RandomState(agent_info.get(\"seed\", 0))"
   ]
  },
  {
   "cell_type": "markdown",
   "id": "eefbc7ea",
   "metadata": {},
   "source": [
    "## 2.2. agent_start()"
   ]
  },
  {
   "cell_type": "code",
   "execution_count": 11,
   "id": "35fde265",
   "metadata": {},
   "outputs": [],
   "source": [
    "%%add_to QLearningAgent\n",
    "\n",
    "def agent_start(self, state):\n",
    "    \"\"\"\n",
    "    The first method called when the episode starts, called after\n",
    "    the environment starts.\n",
    "    Args:\n",
    "        state (int): the state observation from the environment's evn_start function.\n",
    "    Returns:\n",
    "        action (int): the first action the agent takes.\n",
    "    \"\"\"\n",
    "    \n",
    "    # Choose action using epsilon greedy.\n",
    "    current_q = self.q[state][:]\n",
    "    if self.rand_generator.rand() < self.epsilon:\n",
    "        action = self.rand_generator.randint(self.num_actions)\n",
    "    else:\n",
    "        action = self.argmax(current_q)\n",
    "    self.prev_state = state\n",
    "    self.prev_action = action\n",
    "    return action"
   ]
  },
  {
   "cell_type": "markdown",
   "id": "5eb5a2db",
   "metadata": {},
   "source": [
    "## 2.3. agent_step()"
   ]
  },
  {
   "cell_type": "code",
   "execution_count": 12,
   "id": "afa98f3d",
   "metadata": {},
   "outputs": [],
   "source": [
    "%%add_to QLearningAgent\n",
    "\n",
    "def agent_step(self, reward, state):\n",
    "    \"\"\"\n",
    "    A step taken by the agent.\n",
    "    Args:\n",
    "        reward (float): the reward received for taking the last action taken\n",
    "        state (int): the state observation from the environment's step \n",
    "            based on where the agent ended up after the last step.\n",
    "    Returns:\n",
    "        action (int): the action the agent is taking.\n",
    "    \"\"\"\n",
    "\n",
    "    # Choose action using epsilon greedy.\n",
    "    current_q = self.q[state, :]\n",
    "    if self.rand_generator.rand() < self.epsilon:\n",
    "        action = self.rand_generator.randint(self.num_actions)\n",
    "    else:\n",
    "        action = self.argmax(current_q)\n",
    "\n",
    "    # Perform an update\n",
    "    max_val = -1e5\n",
    "    for act in range(self.num_actions):\n",
    "        val = self.q[self.prev_state, self.prev_action] + self.step_size * (\n",
    "            reward + self.discount * self.q[state, act] - self.q[self.prev_state, self.prev_action]\n",
    "        )\n",
    "        max_val = max(max_val, val)\n",
    "    self.q[self.prev_state, self.prev_action] = max_val\n",
    "\n",
    "    self.prev_state = state\n",
    "    self.prev_action = action\n",
    "    return action"
   ]
  },
  {
   "cell_type": "markdown",
   "id": "66a2039e",
   "metadata": {},
   "source": [
    "## 2.4. agent_end()"
   ]
  },
  {
   "cell_type": "code",
   "execution_count": 13,
   "id": "256e85fd",
   "metadata": {},
   "outputs": [],
   "source": [
    "%%add_to QLearningAgent\n",
    "\n",
    "def agent_end(self, reward):\n",
    "    \"\"\"\n",
    "    Run when the agent terminates.\n",
    "    Args:\n",
    "        reward (float): the reward the agent received for entering the\n",
    "            terminal state.\n",
    "    \"\"\"\n",
    "    max_val = -1e5\n",
    "    for action in range(self.num_actions):\n",
    "        val = self.q[self.prev_state, self.prev_action] + self.step_size * (\n",
    "            reward + self.discount * 0 - self.q[self.prev_state, self.prev_action]\n",
    "        )\n",
    "        max_val = max(max_val, val)\n",
    "    self.q[self.prev_state, self.prev_action] = max_val"
   ]
  },
  {
   "cell_type": "markdown",
   "id": "2b7ef3ce",
   "metadata": {},
   "source": [
    "## 2.5. agent_message()"
   ]
  },
  {
   "cell_type": "code",
   "execution_count": 14,
   "id": "cfceb56f",
   "metadata": {},
   "outputs": [],
   "source": [
    "%%add_to QLearningAgent\n",
    "\n",
    "def agent_message(self, message):\n",
    "    \"\"\"\n",
    "    A function used to pass information from the agent to the experiment.\n",
    "    Args:\n",
    "        message: The message passed to the agent\n",
    "    Returns:\n",
    "        The response (or answer) to the message\n",
    "    \"\"\"\n",
    "    if message == \"get_values\":\n",
    "        return self.q\n",
    "    else:\n",
    "        raise Exception(\"TDAgent.agent_message(): Message not understood!\")"
   ]
  },
  {
   "cell_type": "markdown",
   "id": "4e6194de",
   "metadata": {},
   "source": [
    "## 2.6. argmax()"
   ]
  },
  {
   "cell_type": "code",
   "execution_count": 15,
   "id": "b5f07474",
   "metadata": {},
   "outputs": [],
   "source": [
    "%%add_to QLearningAgent\n",
    "\n",
    "def argmax(self, q_values):\n",
    "    \"\"\"\n",
    "    argmax with random tie-breaking\n",
    "    Args:\n",
    "        q_values (Numpy array): the array of action-values\n",
    "    Returns:\n",
    "        action (int): an action with the highest value\n",
    "    \"\"\"\n",
    "    top = float(\"-inf\")\n",
    "    ties = []\n",
    "\n",
    "    for i in range(len(q_values)):\n",
    "        if q_values[i] > top:\n",
    "            top = q_values[i]\n",
    "            ties = []\n",
    "\n",
    "        if q_values[i] == top:\n",
    "            ties.append(i)\n",
    "\n",
    "    return self.rand_generator.choice(ties)"
   ]
  },
  {
   "cell_type": "markdown",
   "id": "3d5d9d86",
   "metadata": {},
   "source": [
    "# 3. Running Experiments"
   ]
  },
  {
   "cell_type": "code",
   "execution_count": 16,
   "id": "67740eb5",
   "metadata": {},
   "outputs": [],
   "source": [
    "def plt_opt_policy(q_policy):\n",
    "    ### DEBUG CODE\n",
    "    # state = (4, 13, True)\n",
    "    # index = state_to_index[state]\n",
    "    # q_policy[index]\n",
    "    \n",
    "    player_sum = list(range(12, 22))\n",
    "    dealer_card = list(range(2, 12))\n",
    "    usable_ace = [False, True]\n",
    "    \n",
    "    # Creating the Dictionaries outside the environment\n",
    "    state_to_index = {}\n",
    "    index_to_state = {}\n",
    "    \n",
    "    # Iterating over all the possible 200 states\n",
    "    i = 0\n",
    "    for ag_sum in range(12, 22):\n",
    "        for dea_vc in range(2, 12): # Dealer's Visible Card\n",
    "            for us_ace in [False, True]: # Usable Ace\n",
    "                index_to_state[i] = (dea_vc, ag_sum, us_ace)\n",
    "                state_to_index[(dea_vc, ag_sum, us_ace)] = i\n",
    "                i += 1\n",
    "    \n",
    "    q_vals = np.zeros((len(player_sum), len(dealer_card), 2))\n",
    "\n",
    "    for i, ps in enumerate(player_sum):\n",
    "        for j, dc in enumerate(dealer_card):\n",
    "            for k, ua in enumerate(usable_ace):\n",
    "                state = (dc, ps, ua)\n",
    "                index = state_to_index[state]\n",
    "                q_vals[i][j][k] = np.argmax(q_policy[index])\n",
    "                \n",
    "    # Re-organizing the q-values in the correct form\n",
    "    q_false_vals = np.flip(q_vals[ : , : , 0], axis = 0)\n",
    "    q_true_vals = np.flip(q_vals[ : , : , 1], axis = 0)\n",
    "    \n",
    "    # Defining Subplots\n",
    "    f, (ax1, ax2) = plt.subplots(1, 2, sharey=False, sharex=False, figsize = (12, 8))\n",
    "\n",
    "    im1 = ax1.imshow(q_false_vals)\n",
    "    ax1.set_title(\"Dealer Sticks: 17 | Usable Ace: False\\n Purple: STICK | Yellow: HIT\\n\")\n",
    "    ax1.set_xlabel(\"Dealer Card\")\n",
    "    ax1.set_ylabel(\"Player's Cards' Sum\")\n",
    "    ax1.set_xticks(ticks = range(0, 10), labels = dealer_card)\n",
    "    ax1.set_yticks(ticks = range(0, 10), labels = np.flip(player_sum))\n",
    "    \n",
    "    im2 = ax2.imshow(q_true_vals)\n",
    "    ax2.set_title(\"Dealer Sticks: 17 | Usable Ace: True\\n Purple: STICK | Yellow: HIT\\n\")\n",
    "    ax2.set_xlabel(\"Dealer Card\")\n",
    "    ax2.set_ylabel(\"Player's Cards' Sum\")\n",
    "    ax2.set_xticks(ticks = range(0, 10), labels = dealer_card)\n",
    "    ax2.set_yticks(ticks = range(0, 10), labels = np.flip(player_sum))\n",
    "    \n",
    "    plt.show()"
   ]
  },
  {
   "cell_type": "code",
   "execution_count": 17,
   "id": "f68c299f",
   "metadata": {},
   "outputs": [],
   "source": [
    "def run_experiment(env_info, agent_info, num_episode = 1000):\n",
    "    env = BlackjackEnvironment\n",
    "    agent = QLearningAgent\n",
    "    rl_glue = RLGlue(env, agent)\n",
    "\n",
    "    rl_glue.rl_init(agent_info, env_info)\n",
    "    \n",
    "    for episode in range(1, num_episode + 1):\n",
    "        rl_glue.rl_episode(0)\n",
    "        if episode == num_episode: break\n",
    "        \n",
    "        if episode % np.ceil(num_episode / 5) == 0:\n",
    "            print(f\"After {episode} episodes:\")\n",
    "            q_vals = rl_glue.agent.agent_message(\"get_values\")\n",
    "            plt_opt_policy(q_vals)\n",
    "            \n",
    "    print(f\"After {num_episode} episodes:\")\n",
    "    q_vals = rl_glue.agent.agent_message(\"get_values\")\n",
    "    plt_opt_policy(q_vals)\n",
    "    \n",
    "    return q_vals"
   ]
  },
  {
   "cell_type": "code",
   "execution_count": 20,
   "id": "25516d40",
   "metadata": {
    "scrolled": false
   },
   "outputs": [
    {
     "name": "stdout",
     "output_type": "stream",
     "text": [
      "After 1000 episodes:\n"
     ]
    },
    {
     "data": {
      "image/png": "[encoded data removed]",
      "text/plain": [
       "<Figure size 864x576 with 2 Axes>"
      ]
     },
     "metadata": {
      "needs_background": "light"
     },
     "output_type": "display_data"
    },
    {
     "name": "stdout",
     "output_type": "stream",
     "text": [
      "After 2000 episodes:\n"
     ]
    },
    {
     "data": {
      "image/png": "[encoded data removed]",
      "text/plain": [
       "<Figure size 864x576 with 2 Axes>"
      ]
     },
     "metadata": {
      "needs_background": "light"
     },
     "output_type": "display_data"
    },
    {
     "name": "stdout",
     "output_type": "stream",
     "text": [
      "After 3000 episodes:\n"
     ]
    },
    {
     "data": {
      "image/png": "[encoded data removed]",
      "text/plain": [
       "<Figure size 864x576 with 2 Axes>"
      ]
     },
     "metadata": {
      "needs_background": "light"
     },
     "output_type": "display_data"
    },
    {
     "name": "stdout",
     "output_type": "stream",
     "text": [
      "After 4000 episodes:\n"
     ]
    },
    {
     "data": {
      "image/png": "[encoded data removed]",
      "text/plain": [
       "<Figure size 864x576 with 2 Axes>"
      ]
     },
     "metadata": {
      "needs_background": "light"
     },
     "output_type": "display_data"
    },
    {
     "name": "stdout",
     "output_type": "stream",
     "text": [
      "After 5000 episodes:\n"
     ]
    },
    {
     "data": {
      "image/png": "[encoded data removed]",
      "text/plain": [
       "<Figure size 864x576 with 2 Axes>"
      ]
     },
     "metadata": {
      "needs_background": "light"
     },
     "output_type": "display_data"
    }
   ],
   "source": [
    "# Defining the characteristics for the environment\n",
    "env_info = {\"dealer_sticks\": 17}\n",
    "\n",
    "# Defining the characteristics for the agent\n",
    "agent_info = {\n",
    "    \"discount\": 1,       # UNDISCOUNTED\n",
    "    \"step_size\": 0.2,\n",
    "    \"epsilon\": 0.1,\n",
    "    \"seed\": 0\n",
    "}\n",
    "\n",
    "q_optimal = run_experiment(env_info, agent_info, num_episode = 5000)"
   ]
  }
 ],
 "metadata": {
  "kernelspec": {
   "display_name": "Python 3 (ipykernel)",
   "language": "python",
   "name": "python3"
  },
  "language_info": {
   "codemirror_mode": {
    "name": "ipython",
    "version": 3
   },
   "file_extension": ".py",
   "mimetype": "text/x-python",
   "name": "python",
   "nbconvert_exporter": "python",
   "pygments_lexer": "ipython3",
   "version": "3.9.12"
  }
 },
 "nbformat": 4,
 "nbformat_minor": 5
}
